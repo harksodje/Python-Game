{
  "cells": [
    {
      "cell_type": "markdown",
      "metadata": {
        "id": "view-in-github",
        "colab_type": "text"
      },
      "source": [
        "<a href=\"https://colab.research.google.com/github/harksodje/Python-Game/blob/main/Pig_Latin.ipynb\" target=\"_parent\"><img src=\"https://colab.research.google.com/assets/colab-badge.svg\" alt=\"Open In Colab\"/></a>"
      ]
    },
    {
      "cell_type": "code",
      "execution_count": null,
      "metadata": {
        "id": "20mZvSF3gtm7"
      },
      "outputs": [],
      "source": [
        "from collections import namedtuple, deque"
      ]
    },
    {
      "cell_type": "code",
      "execution_count": null,
      "metadata": {
        "id": "zVGTGG0Fg4pK"
      },
      "outputs": [],
      "source": [
        "pip install collections"
      ]
    },
    {
      "cell_type": "code",
      "execution_count": null,
      "metadata": {
        "colab": {
          "base_uri": "https://localhost:8080/"
        },
        "id": "FNE-T7SUgyu5",
        "outputId": "e3a807bc-b095-45f9-8583-6111fd35f77a"
      },
      "outputs": [
        {
          "data": {
            "text/plain": [
              "rice(name='akin', lang='developer python ')"
            ]
          },
          "execution_count": 17,
          "metadata": {},
          "output_type": "execute_result"
        }
      ],
      "source": [
        "Rice = namedtuple(\"rice\" ,\"name lang\", defaults=[\"developer python \"],)\n",
        "\n",
        "Rice(name = \"akin\")"
      ]
    },
    {
      "cell_type": "code",
      "execution_count": null,
      "metadata": {
        "id": "YMJr8MqdhN3N"
      },
      "outputs": [],
      "source": [
        "dep_list = deque()"
      ]
    },
    {
      "cell_type": "code",
      "execution_count": null,
      "metadata": {
        "id": "qa2r7DzzkmMt"
      },
      "outputs": [],
      "source": [
        "dep_list.append([\"Rice\",\"love\"])"
      ]
    },
    {
      "cell_type": "code",
      "execution_count": null,
      "metadata": {
        "id": "kV6s_WaokuBv"
      },
      "outputs": [],
      "source": [
        "dep_list.extend([\"like\"])"
      ]
    },
    {
      "cell_type": "code",
      "execution_count": null,
      "metadata": {
        "colab": {
          "base_uri": "https://localhost:8080/"
        },
        "id": "iz6208O5k4Wr",
        "outputId": "44568c7f-0287-41de-ce88-177c463a90cb"
      },
      "outputs": [
        {
          "data": {
            "text/plain": [
              "deque([['Rice', 'love'], 'like'])"
            ]
          },
          "execution_count": 24,
          "metadata": {},
          "output_type": "execute_result"
        }
      ],
      "source": [
        "dep_list"
      ]
    },
    {
      "cell_type": "code",
      "execution_count": null,
      "metadata": {
        "colab": {
          "background_save": true,
          "base_uri": "https://localhost:8080/"
        },
        "id": "L_vk7YLtk7j8",
        "outputId": "b8074f17-ee9c-4bd9-f373-4e7689c96688"
      },
      "outputs": [
        {
          "data": {
            "text/plain": [
              "1"
            ]
          },
          "execution_count": null,
          "metadata": {},
          "output_type": "execute_result"
        }
      ],
      "source": [
        "dep_list.count(\"i\")"
      ]
    },
    {
      "cell_type": "code",
      "execution_count": null,
      "metadata": {
        "id": "60JC-PtNlMPS"
      },
      "outputs": [],
      "source": [
        "# Write your solution below\n",
        "def pig_latin():\n",
        "    '''\n",
        "    This function is to convert english sentence to pig_latin\n",
        "    the function will only accept string that contains no notations like (, . ?)\n",
        "    and terminates with empty string input\n",
        "    '''\n",
        "    vowels = ['a','e', 'o','u','i','A','E','O','U','I']\n",
        "    while True:\n",
        "        english_sen = input('type a sentence or a word :') #input of sentence\n",
        "        pig_latin_sen = []  # list to store pig latin words\n",
        "\n",
        "        '''flow conditions to check digit, string and empty input '''\n",
        "        if english_sen.isdigit(): # to check digit input\n",
        "            print (f'the function only accept only string')\n",
        "\n",
        "        elif str(english_sen): # to check string input\n",
        "            english_sen_words = english_sen.split()\n",
        "\n",
        "            for en_word in english_sen_words: #looping through the sentence \n",
        "                if  en_word[0] in vowels : # checking if word starts with vowel\n",
        "                    pig_word =  en_word+'way'\n",
        "                    pig_latin_sen.append(pig_word)\n",
        "\n",
        "                else: # checking if word starts with consonant\n",
        "\n",
        "                    if  en_word[0].isupper(): # check if word starts with upper\n",
        "                        pig_word =  en_word[1:] +  en_word[0].lower() + 'ay'\n",
        "                        pig_latin_sen.append(pig_word[0].upper()+ pig_word[1:])\n",
        "\n",
        "                    else:  # check if word starts with lower case\n",
        "                        pig__word =  en_word[1:] +  en_word[0] + 'ay'\n",
        "                        pig_latin_sen.append(pig__word)\n",
        "\n",
        "            print(' '.join(pig_latin_sen))\n",
        "            \n",
        "        else: # to check empty input\n",
        "            print ('Quit')\n",
        "            break"
      ]
    }
  ],
  "metadata": {
    "colab": {
      "name": "Pig_Latin.ipynb",
      "provenance": [],
      "authorship_tag": "ABX9TyPkghQo6nPrUh0xtD6nsWRR",
      "include_colab_link": true
    },
    "kernelspec": {
      "display_name": "Python 3",
      "name": "python3"
    },
    "language_info": {
      "name": "python"
    }
  },
  "nbformat": 4,
  "nbformat_minor": 0
}